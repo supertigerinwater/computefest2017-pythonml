{
 "cells": [
  {
   "cell_type": "markdown",
   "metadata": {},
   "source": [
    "# Ensembles"
   ]
  },
  {
   "cell_type": "code",
   "execution_count": 1,
   "metadata": {
    "collapsed": false
   },
   "outputs": [
    {
     "name": "stderr",
     "output_type": "stream",
     "text": [
      "//anaconda/envs/py35/lib/python3.5/site-packages/matplotlib/__init__.py:872: UserWarning: axes.color_cycle is deprecated and replaced with axes.prop_cycle; please use the latter.\n",
      "  warnings.warn(self.msg_depr % (key, alt_key))\n"
     ]
    }
   ],
   "source": [
    "#!pip install seaborn\n",
    "%matplotlib inline\n",
    "import numpy as np\n",
    "import matplotlib.pyplot as plt\n",
    "import pandas as pd\n",
    "import seaborn as sns\n",
    "pd.set_option('display.width', 500)\n",
    "pd.set_option('display.max_columns', 100)"
   ]
  },
  {
   "cell_type": "code",
   "execution_count": 2,
   "metadata": {
    "collapsed": false
   },
   "outputs": [],
   "source": [
    "from IPython.core.display import Image"
   ]
  },
  {
   "cell_type": "markdown",
   "metadata": {},
   "source": [
    "## Italian Olives"
   ]
  },
  {
   "cell_type": "code",
   "execution_count": 3,
   "metadata": {
    "collapsed": false
   },
   "outputs": [
    {
     "data": {
      "text/html": [
       "<img src=\"https://dl.dropboxusercontent.com/u/75194/BDF/Italy.png\"/>"
      ],
      "text/plain": [
       "<IPython.core.display.Image object>"
      ]
     },
     "execution_count": 3,
     "metadata": {},
     "output_type": "execute_result"
    }
   ],
   "source": [
    "Image(url=\"https://dl.dropboxusercontent.com/u/75194/BDF/Italy.png\")"
   ]
  },
  {
   "cell_type": "markdown",
   "metadata": {},
   "source": [
    "I found this data set in the RGGobi book (http://www.ggobi.org/book/), from which the above diagram is taken. It has \"the percentage composition of fatty acids\n",
    "found in the lipid fraction of Italian olive oils', with oils from 3 regions of Italy: the North, the South, and Sardinia. The regions themselves are subdivided into areas as shown in the map above. The source for this data is:\n",
    "\n",
    ">Forina, M., Armanino, C., Lanteri, S. & Tiscornia, E. (1983), Classification of Olive Oils from their Fatty Acid Composition, in Martens, H. and\n",
    "Russwurm Jr., H., eds, Food Research and Data Analysis, Applied Science\n",
    "Publishers, London, pp. 189–214."
   ]
  },
  {
   "cell_type": "code",
   "execution_count": 6,
   "metadata": {
    "collapsed": false
   },
   "outputs": [
    {
     "data": {
      "text/html": [
       "<div>\n",
       "<table border=\"1\" class=\"dataframe\">\n",
       "  <thead>\n",
       "    <tr style=\"text-align: right;\">\n",
       "      <th></th>\n",
       "      <th>areastring</th>\n",
       "      <th>region</th>\n",
       "      <th>area</th>\n",
       "      <th>palmitic</th>\n",
       "      <th>palmitoleic</th>\n",
       "      <th>stearic</th>\n",
       "      <th>oleic</th>\n",
       "      <th>linoleic</th>\n",
       "      <th>linolenic</th>\n",
       "      <th>arachidic</th>\n",
       "      <th>eicosenoic</th>\n",
       "      <th>regionstring</th>\n",
       "    </tr>\n",
       "  </thead>\n",
       "  <tbody>\n",
       "    <tr>\n",
       "      <th>0</th>\n",
       "      <td>North-Apulia</td>\n",
       "      <td>1</td>\n",
       "      <td>1</td>\n",
       "      <td>10.75</td>\n",
       "      <td>0.75</td>\n",
       "      <td>2.26</td>\n",
       "      <td>78.23</td>\n",
       "      <td>6.72</td>\n",
       "      <td>0.36</td>\n",
       "      <td>0.60</td>\n",
       "      <td>0.29</td>\n",
       "      <td>South</td>\n",
       "    </tr>\n",
       "    <tr>\n",
       "      <th>1</th>\n",
       "      <td>North-Apulia</td>\n",
       "      <td>1</td>\n",
       "      <td>1</td>\n",
       "      <td>10.88</td>\n",
       "      <td>0.73</td>\n",
       "      <td>2.24</td>\n",
       "      <td>77.09</td>\n",
       "      <td>7.81</td>\n",
       "      <td>0.31</td>\n",
       "      <td>0.61</td>\n",
       "      <td>0.29</td>\n",
       "      <td>South</td>\n",
       "    </tr>\n",
       "    <tr>\n",
       "      <th>2</th>\n",
       "      <td>North-Apulia</td>\n",
       "      <td>1</td>\n",
       "      <td>1</td>\n",
       "      <td>9.11</td>\n",
       "      <td>0.54</td>\n",
       "      <td>2.46</td>\n",
       "      <td>81.13</td>\n",
       "      <td>5.49</td>\n",
       "      <td>0.31</td>\n",
       "      <td>0.63</td>\n",
       "      <td>0.29</td>\n",
       "      <td>South</td>\n",
       "    </tr>\n",
       "    <tr>\n",
       "      <th>3</th>\n",
       "      <td>North-Apulia</td>\n",
       "      <td>1</td>\n",
       "      <td>1</td>\n",
       "      <td>9.66</td>\n",
       "      <td>0.57</td>\n",
       "      <td>2.40</td>\n",
       "      <td>79.52</td>\n",
       "      <td>6.19</td>\n",
       "      <td>0.50</td>\n",
       "      <td>0.78</td>\n",
       "      <td>0.35</td>\n",
       "      <td>South</td>\n",
       "    </tr>\n",
       "    <tr>\n",
       "      <th>4</th>\n",
       "      <td>North-Apulia</td>\n",
       "      <td>1</td>\n",
       "      <td>1</td>\n",
       "      <td>10.51</td>\n",
       "      <td>0.67</td>\n",
       "      <td>2.59</td>\n",
       "      <td>77.71</td>\n",
       "      <td>6.72</td>\n",
       "      <td>0.50</td>\n",
       "      <td>0.80</td>\n",
       "      <td>0.46</td>\n",
       "      <td>South</td>\n",
       "    </tr>\n",
       "  </tbody>\n",
       "</table>\n",
       "</div>"
      ],
      "text/plain": [
       "     areastring  region  area  palmitic  palmitoleic  stearic  oleic  linoleic  linolenic  arachidic  eicosenoic regionstring\n",
       "0  North-Apulia       1     1     10.75         0.75     2.26  78.23      6.72       0.36       0.60        0.29        South\n",
       "1  North-Apulia       1     1     10.88         0.73     2.24  77.09      7.81       0.31       0.61        0.29        South\n",
       "2  North-Apulia       1     1      9.11         0.54     2.46  81.13      5.49       0.31       0.63        0.29        South\n",
       "3  North-Apulia       1     1      9.66         0.57     2.40  79.52      6.19       0.50       0.78        0.35        South\n",
       "4  North-Apulia       1     1     10.51         0.67     2.59  77.71      6.72       0.50       0.80        0.46        South"
      ]
     },
     "execution_count": 6,
     "metadata": {},
     "output_type": "execute_result"
    }
   ],
   "source": [
    "df=pd.read_csv(\"data/local-olives-cleaned.csv\")\n",
    "df.head(5)"
   ]
  },
  {
   "cell_type": "markdown",
   "metadata": {},
   "source": [
    "### exploring globally"
   ]
  },
  {
   "cell_type": "code",
   "execution_count": 7,
   "metadata": {
    "collapsed": false
   },
   "outputs": [
    {
     "data": {
      "text/html": [
       "<div>\n",
       "<table border=\"1\" class=\"dataframe\">\n",
       "  <thead>\n",
       "    <tr style=\"text-align: right;\">\n",
       "      <th>regionstring</th>\n",
       "      <th>North</th>\n",
       "      <th>Sardinia</th>\n",
       "      <th>South</th>\n",
       "    </tr>\n",
       "    <tr>\n",
       "      <th>areastring</th>\n",
       "      <th></th>\n",
       "      <th></th>\n",
       "      <th></th>\n",
       "    </tr>\n",
       "  </thead>\n",
       "  <tbody>\n",
       "    <tr>\n",
       "      <th>Calabria</th>\n",
       "      <td>0</td>\n",
       "      <td>0</td>\n",
       "      <td>56</td>\n",
       "    </tr>\n",
       "    <tr>\n",
       "      <th>Coast-Sardinia</th>\n",
       "      <td>0</td>\n",
       "      <td>33</td>\n",
       "      <td>0</td>\n",
       "    </tr>\n",
       "    <tr>\n",
       "      <th>East-Liguria</th>\n",
       "      <td>50</td>\n",
       "      <td>0</td>\n",
       "      <td>0</td>\n",
       "    </tr>\n",
       "    <tr>\n",
       "      <th>Inland-Sardinia</th>\n",
       "      <td>0</td>\n",
       "      <td>65</td>\n",
       "      <td>0</td>\n",
       "    </tr>\n",
       "    <tr>\n",
       "      <th>North-Apulia</th>\n",
       "      <td>0</td>\n",
       "      <td>0</td>\n",
       "      <td>25</td>\n",
       "    </tr>\n",
       "    <tr>\n",
       "      <th>Sicily</th>\n",
       "      <td>0</td>\n",
       "      <td>0</td>\n",
       "      <td>36</td>\n",
       "    </tr>\n",
       "    <tr>\n",
       "      <th>South-Apulia</th>\n",
       "      <td>0</td>\n",
       "      <td>0</td>\n",
       "      <td>206</td>\n",
       "    </tr>\n",
       "    <tr>\n",
       "      <th>Umbria</th>\n",
       "      <td>51</td>\n",
       "      <td>0</td>\n",
       "      <td>0</td>\n",
       "    </tr>\n",
       "    <tr>\n",
       "      <th>West-Liguria</th>\n",
       "      <td>50</td>\n",
       "      <td>0</td>\n",
       "      <td>0</td>\n",
       "    </tr>\n",
       "  </tbody>\n",
       "</table>\n",
       "</div>"
      ],
      "text/plain": [
       "regionstring     North  Sardinia  South\n",
       "areastring                             \n",
       "Calabria             0         0     56\n",
       "Coast-Sardinia       0        33      0\n",
       "East-Liguria        50         0      0\n",
       "Inland-Sardinia      0        65      0\n",
       "North-Apulia         0         0     25\n",
       "Sicily               0         0     36\n",
       "South-Apulia         0         0    206\n",
       "Umbria              51         0      0\n",
       "West-Liguria        50         0      0"
      ]
     },
     "execution_count": 7,
     "metadata": {},
     "output_type": "execute_result"
    }
   ],
   "source": [
    "pd.crosstab(df.areastring, df.regionstring)"
   ]
  },
  {
   "cell_type": "code",
   "execution_count": 8,
   "metadata": {
    "collapsed": false
   },
   "outputs": [
    {
     "data": {
      "image/png": "[encoded data removed]",
      "text/plain": [
       "<matplotlib.figure.Figure at 0x1144c6630>"
      ]
     },
     "metadata": {},
     "output_type": "display_data"
    }
   ],
   "source": [
    "pd.value_counts(df.areastring, sort=False).plot(kind=\"bar\");"
   ]
  },
  {
   "cell_type": "code",
   "execution_count": 9,
   "metadata": {
    "collapsed": false
   },
   "outputs": [
    {
     "data": {
      "image/png": "[encoded data removed]",
      "text/plain": [
       "<matplotlib.figure.Figure at 0x114445b00>"
      ]
     },
     "metadata": {},
     "output_type": "display_data"
    }
   ],
   "source": [
    "pd.value_counts(df.regionstring, sort=False).plot(kind=\"barh\");"
   ]
  },
  {
   "cell_type": "code",
   "execution_count": 10,
   "metadata": {
    "collapsed": false
   },
   "outputs": [
    {
     "data": {
      "text/html": [
       "<div>\n",
       "<table border=\"1\" class=\"dataframe\">\n",
       "  <thead>\n",
       "    <tr style=\"text-align: right;\">\n",
       "      <th></th>\n",
       "      <th>region</th>\n",
       "      <th>area</th>\n",
       "      <th>palmitic</th>\n",
       "      <th>palmitoleic</th>\n",
       "      <th>stearic</th>\n",
       "      <th>oleic</th>\n",
       "      <th>linoleic</th>\n",
       "      <th>linolenic</th>\n",
       "      <th>arachidic</th>\n",
       "      <th>eicosenoic</th>\n",
       "    </tr>\n",
       "  </thead>\n",
       "  <tbody>\n",
       "    <tr>\n",
       "      <th>count</th>\n",
       "      <td>572.000000</td>\n",
       "      <td>572.000000</td>\n",
       "      <td>572.000000</td>\n",
       "      <td>572.000000</td>\n",
       "      <td>572.000000</td>\n",
       "      <td>572.000000</td>\n",
       "      <td>572.000000</td>\n",
       "      <td>572.000000</td>\n",
       "      <td>572.000000</td>\n",
       "      <td>572.000000</td>\n",
       "    </tr>\n",
       "    <tr>\n",
       "      <th>mean</th>\n",
       "      <td>1.699301</td>\n",
       "      <td>4.599650</td>\n",
       "      <td>12.317413</td>\n",
       "      <td>1.260944</td>\n",
       "      <td>2.288654</td>\n",
       "      <td>73.117483</td>\n",
       "      <td>9.805280</td>\n",
       "      <td>0.318881</td>\n",
       "      <td>0.580979</td>\n",
       "      <td>0.162815</td>\n",
       "    </tr>\n",
       "    <tr>\n",
       "      <th>std</th>\n",
       "      <td>0.859968</td>\n",
       "      <td>2.356687</td>\n",
       "      <td>1.685923</td>\n",
       "      <td>0.524944</td>\n",
       "      <td>0.367449</td>\n",
       "      <td>4.058102</td>\n",
       "      <td>2.427992</td>\n",
       "      <td>0.129687</td>\n",
       "      <td>0.220302</td>\n",
       "      <td>0.140833</td>\n",
       "    </tr>\n",
       "    <tr>\n",
       "      <th>min</th>\n",
       "      <td>1.000000</td>\n",
       "      <td>1.000000</td>\n",
       "      <td>6.100000</td>\n",
       "      <td>0.150000</td>\n",
       "      <td>1.520000</td>\n",
       "      <td>63.000000</td>\n",
       "      <td>4.480000</td>\n",
       "      <td>0.000000</td>\n",
       "      <td>0.000000</td>\n",
       "      <td>0.010000</td>\n",
       "    </tr>\n",
       "    <tr>\n",
       "      <th>25%</th>\n",
       "      <td>1.000000</td>\n",
       "      <td>3.000000</td>\n",
       "      <td>10.950000</td>\n",
       "      <td>0.877500</td>\n",
       "      <td>2.050000</td>\n",
       "      <td>70.000000</td>\n",
       "      <td>7.707500</td>\n",
       "      <td>0.260000</td>\n",
       "      <td>0.500000</td>\n",
       "      <td>0.020000</td>\n",
       "    </tr>\n",
       "    <tr>\n",
       "      <th>50%</th>\n",
       "      <td>1.000000</td>\n",
       "      <td>3.000000</td>\n",
       "      <td>12.010000</td>\n",
       "      <td>1.100000</td>\n",
       "      <td>2.230000</td>\n",
       "      <td>73.025000</td>\n",
       "      <td>10.300000</td>\n",
       "      <td>0.330000</td>\n",
       "      <td>0.610000</td>\n",
       "      <td>0.170000</td>\n",
       "    </tr>\n",
       "    <tr>\n",
       "      <th>75%</th>\n",
       "      <td>3.000000</td>\n",
       "      <td>7.000000</td>\n",
       "      <td>13.600000</td>\n",
       "      <td>1.692500</td>\n",
       "      <td>2.490000</td>\n",
       "      <td>76.800000</td>\n",
       "      <td>11.807500</td>\n",
       "      <td>0.402500</td>\n",
       "      <td>0.700000</td>\n",
       "      <td>0.280000</td>\n",
       "    </tr>\n",
       "    <tr>\n",
       "      <th>max</th>\n",
       "      <td>3.000000</td>\n",
       "      <td>9.000000</td>\n",
       "      <td>17.530000</td>\n",
       "      <td>2.800000</td>\n",
       "      <td>3.750000</td>\n",
       "      <td>84.100000</td>\n",
       "      <td>14.700000</td>\n",
       "      <td>0.740000</td>\n",
       "      <td>1.050000</td>\n",
       "      <td>0.580000</td>\n",
       "    </tr>\n",
       "  </tbody>\n",
       "</table>\n",
       "</div>"
      ],
      "text/plain": [
       "           region        area    palmitic  palmitoleic     stearic       oleic    linoleic   linolenic   arachidic  eicosenoic\n",
       "count  572.000000  572.000000  572.000000   572.000000  572.000000  572.000000  572.000000  572.000000  572.000000  572.000000\n",
       "mean     1.699301    4.599650   12.317413     1.260944    2.288654   73.117483    9.805280    0.318881    0.580979    0.162815\n",
       "std      0.859968    2.356687    1.685923     0.524944    0.367449    4.058102    2.427992    0.129687    0.220302    0.140833\n",
       "min      1.000000    1.000000    6.100000     0.150000    1.520000   63.000000    4.480000    0.000000    0.000000    0.010000\n",
       "25%      1.000000    3.000000   10.950000     0.877500    2.050000   70.000000    7.707500    0.260000    0.500000    0.020000\n",
       "50%      1.000000    3.000000   12.010000     1.100000    2.230000   73.025000   10.300000    0.330000    0.610000    0.170000\n",
       "75%      3.000000    7.000000   13.600000     1.692500    2.490000   76.800000   11.807500    0.402500    0.700000    0.280000\n",
       "max      3.000000    9.000000   17.530000     2.800000    3.750000   84.100000   14.700000    0.740000    1.050000    0.580000"
      ]
     },
     "execution_count": 10,
     "metadata": {},
     "output_type": "execute_result"
    }
   ],
   "source": [
    "df.describe()"
   ]
  },
  {
   "cell_type": "code",
   "execution_count": 34,
   "metadata": {
    "collapsed": false
   },
   "outputs": [
    {
     "data": {
      "text/plain": [
       "Index(['areastring', 'region', 'area', 'palmitic', 'palmitoleic', 'stearic', 'oleic', 'linoleic', 'linolenic', 'arachidic', 'eicosenoic', 'regionstring'], dtype='object')"
      ]
     },
     "execution_count": 34,
     "metadata": {},
     "output_type": "execute_result"
    }
   ],
   "source": [
    "df.columns"
   ]
  },
  {
   "cell_type": "code",
   "execution_count": 35,
   "metadata": {
    "collapsed": true
   },
   "outputs": [],
   "source": [
    "acidlist=['palmitic', 'palmitoleic', 'stearic', 'oleic', 'linoleic', 'linolenic', 'arachidic', 'eicosenoic']"
   ]
  },
  {
   "cell_type": "markdown",
   "metadata": {},
   "source": [
    "## Figuring the South of Italy by Area"
   ]
  },
  {
   "cell_type": "code",
   "execution_count": 12,
   "metadata": {
    "collapsed": false
   },
   "outputs": [
    {
     "data": {
      "text/html": [
       "<div>\n",
       "<table border=\"1\" class=\"dataframe\">\n",
       "  <thead>\n",
       "    <tr style=\"text-align: right;\">\n",
       "      <th></th>\n",
       "      <th>areastring</th>\n",
       "      <th>region</th>\n",
       "      <th>area</th>\n",
       "      <th>palmitic</th>\n",
       "      <th>palmitoleic</th>\n",
       "      <th>stearic</th>\n",
       "      <th>oleic</th>\n",
       "      <th>linoleic</th>\n",
       "      <th>linolenic</th>\n",
       "      <th>arachidic</th>\n",
       "      <th>eicosenoic</th>\n",
       "      <th>regionstring</th>\n",
       "    </tr>\n",
       "  </thead>\n",
       "  <tbody>\n",
       "    <tr>\n",
       "      <th>0</th>\n",
       "      <td>North-Apulia</td>\n",
       "      <td>1</td>\n",
       "      <td>1</td>\n",
       "      <td>10.75</td>\n",
       "      <td>0.75</td>\n",
       "      <td>2.26</td>\n",
       "      <td>78.23</td>\n",
       "      <td>6.72</td>\n",
       "      <td>0.36</td>\n",
       "      <td>0.60</td>\n",
       "      <td>0.29</td>\n",
       "      <td>South</td>\n",
       "    </tr>\n",
       "    <tr>\n",
       "      <th>1</th>\n",
       "      <td>North-Apulia</td>\n",
       "      <td>1</td>\n",
       "      <td>1</td>\n",
       "      <td>10.88</td>\n",
       "      <td>0.73</td>\n",
       "      <td>2.24</td>\n",
       "      <td>77.09</td>\n",
       "      <td>7.81</td>\n",
       "      <td>0.31</td>\n",
       "      <td>0.61</td>\n",
       "      <td>0.29</td>\n",
       "      <td>South</td>\n",
       "    </tr>\n",
       "    <tr>\n",
       "      <th>2</th>\n",
       "      <td>North-Apulia</td>\n",
       "      <td>1</td>\n",
       "      <td>1</td>\n",
       "      <td>9.11</td>\n",
       "      <td>0.54</td>\n",
       "      <td>2.46</td>\n",
       "      <td>81.13</td>\n",
       "      <td>5.49</td>\n",
       "      <td>0.31</td>\n",
       "      <td>0.63</td>\n",
       "      <td>0.29</td>\n",
       "      <td>South</td>\n",
       "    </tr>\n",
       "    <tr>\n",
       "      <th>3</th>\n",
       "      <td>North-Apulia</td>\n",
       "      <td>1</td>\n",
       "      <td>1</td>\n",
       "      <td>9.66</td>\n",
       "      <td>0.57</td>\n",
       "      <td>2.40</td>\n",
       "      <td>79.52</td>\n",
       "      <td>6.19</td>\n",
       "      <td>0.50</td>\n",
       "      <td>0.78</td>\n",
       "      <td>0.35</td>\n",
       "      <td>South</td>\n",
       "    </tr>\n",
       "    <tr>\n",
       "      <th>4</th>\n",
       "      <td>North-Apulia</td>\n",
       "      <td>1</td>\n",
       "      <td>1</td>\n",
       "      <td>10.51</td>\n",
       "      <td>0.67</td>\n",
       "      <td>2.59</td>\n",
       "      <td>77.71</td>\n",
       "      <td>6.72</td>\n",
       "      <td>0.50</td>\n",
       "      <td>0.80</td>\n",
       "      <td>0.46</td>\n",
       "      <td>South</td>\n",
       "    </tr>\n",
       "  </tbody>\n",
       "</table>\n",
       "</div>"
      ],
      "text/plain": [
       "     areastring  region  area  palmitic  palmitoleic  stearic  oleic  linoleic  linolenic  arachidic  eicosenoic regionstring\n",
       "0  North-Apulia       1     1     10.75         0.75     2.26  78.23      6.72       0.36       0.60        0.29        South\n",
       "1  North-Apulia       1     1     10.88         0.73     2.24  77.09      7.81       0.31       0.61        0.29        South\n",
       "2  North-Apulia       1     1      9.11         0.54     2.46  81.13      5.49       0.31       0.63        0.29        South\n",
       "3  North-Apulia       1     1      9.66         0.57     2.40  79.52      6.19       0.50       0.78        0.35        South\n",
       "4  North-Apulia       1     1     10.51         0.67     2.59  77.71      6.72       0.50       0.80        0.46        South"
      ]
     },
     "execution_count": 12,
     "metadata": {},
     "output_type": "execute_result"
    }
   ],
   "source": [
    "dfsouth=df[df.regionstring=='South']\n",
    "dfsouth.head()"
   ]
  },
  {
   "cell_type": "code",
   "execution_count": 14,
   "metadata": {
    "collapsed": false
   },
   "outputs": [
    {
     "data": {
      "text/html": [
       "<div>\n",
       "<table border=\"1\" class=\"dataframe\">\n",
       "  <thead>\n",
       "    <tr style=\"text-align: right;\">\n",
       "      <th></th>\n",
       "      <th>areastring</th>\n",
       "      <th>region</th>\n",
       "      <th>area</th>\n",
       "      <th>palmitic</th>\n",
       "      <th>palmitoleic</th>\n",
       "      <th>stearic</th>\n",
       "      <th>oleic</th>\n",
       "      <th>linoleic</th>\n",
       "      <th>linolenic</th>\n",
       "      <th>arachidic</th>\n",
       "      <th>eicosenoic</th>\n",
       "      <th>regionstring</th>\n",
       "    </tr>\n",
       "  </thead>\n",
       "  <tbody>\n",
       "    <tr>\n",
       "      <th>323</th>\n",
       "      <td>Inland-Sardinia</td>\n",
       "      <td>2</td>\n",
       "      <td>5</td>\n",
       "      <td>11.29</td>\n",
       "      <td>1.20</td>\n",
       "      <td>2.22</td>\n",
       "      <td>72.72</td>\n",
       "      <td>11.12</td>\n",
       "      <td>0.43</td>\n",
       "      <td>0.98</td>\n",
       "      <td>0.02</td>\n",
       "      <td>Sardinia</td>\n",
       "    </tr>\n",
       "    <tr>\n",
       "      <th>324</th>\n",
       "      <td>Inland-Sardinia</td>\n",
       "      <td>2</td>\n",
       "      <td>5</td>\n",
       "      <td>10.42</td>\n",
       "      <td>1.35</td>\n",
       "      <td>2.10</td>\n",
       "      <td>73.76</td>\n",
       "      <td>11.16</td>\n",
       "      <td>0.35</td>\n",
       "      <td>0.90</td>\n",
       "      <td>0.03</td>\n",
       "      <td>Sardinia</td>\n",
       "    </tr>\n",
       "    <tr>\n",
       "      <th>325</th>\n",
       "      <td>Inland-Sardinia</td>\n",
       "      <td>2</td>\n",
       "      <td>5</td>\n",
       "      <td>11.03</td>\n",
       "      <td>0.96</td>\n",
       "      <td>2.10</td>\n",
       "      <td>73.80</td>\n",
       "      <td>10.85</td>\n",
       "      <td>0.32</td>\n",
       "      <td>0.94</td>\n",
       "      <td>0.03</td>\n",
       "      <td>Sardinia</td>\n",
       "    </tr>\n",
       "    <tr>\n",
       "      <th>326</th>\n",
       "      <td>Inland-Sardinia</td>\n",
       "      <td>2</td>\n",
       "      <td>5</td>\n",
       "      <td>11.18</td>\n",
       "      <td>0.97</td>\n",
       "      <td>2.21</td>\n",
       "      <td>72.79</td>\n",
       "      <td>11.54</td>\n",
       "      <td>0.35</td>\n",
       "      <td>0.94</td>\n",
       "      <td>0.02</td>\n",
       "      <td>Sardinia</td>\n",
       "    </tr>\n",
       "    <tr>\n",
       "      <th>327</th>\n",
       "      <td>Inland-Sardinia</td>\n",
       "      <td>2</td>\n",
       "      <td>5</td>\n",
       "      <td>10.52</td>\n",
       "      <td>0.95</td>\n",
       "      <td>2.15</td>\n",
       "      <td>73.88</td>\n",
       "      <td>11.26</td>\n",
       "      <td>0.31</td>\n",
       "      <td>0.92</td>\n",
       "      <td>0.01</td>\n",
       "      <td>Sardinia</td>\n",
       "    </tr>\n",
       "  </tbody>\n",
       "</table>\n",
       "</div>"
      ],
      "text/plain": [
       "          areastring  region  area  palmitic  palmitoleic  stearic  oleic  linoleic  linolenic  arachidic  eicosenoic regionstring\n",
       "323  Inland-Sardinia       2     5     11.29         1.20     2.22  72.72     11.12       0.43       0.98        0.02     Sardinia\n",
       "324  Inland-Sardinia       2     5     10.42         1.35     2.10  73.76     11.16       0.35       0.90        0.03     Sardinia\n",
       "325  Inland-Sardinia       2     5     11.03         0.96     2.10  73.80     10.85       0.32       0.94        0.03     Sardinia\n",
       "326  Inland-Sardinia       2     5     11.18         0.97     2.21  72.79     11.54       0.35       0.94        0.02     Sardinia\n",
       "327  Inland-Sardinia       2     5     10.52         0.95     2.15  73.88     11.26       0.31       0.92        0.01     Sardinia"
      ]
     },
     "execution_count": 14,
     "metadata": {},
     "output_type": "execute_result"
    }
   ],
   "source": [
    "dfnosouth=df[df.regionstring!='South']\n",
    "dfnosouth.head()"
   ]
  },
  {
   "cell_type": "markdown",
   "metadata": {},
   "source": [
    "## Southern areas: Descision Trees and Random Forests."
   ]
  },
  {
   "cell_type": "markdown",
   "metadata": {},
   "source": [
    "Descision trees are very simple things we are all familiar with. If a problem is multi-dimensional, the tree goes dimension by dimension and makes cuts in the space to create a classifier.\n",
    "\n",
    "![](http://scikit-learn.org/stable/_images/iris.svg)"
   ]
  },
  {
   "cell_type": "markdown",
   "metadata": {},
   "source": [
    "Building a decision tree isn't really much harder than reading one, here's the essential rundown:\n",
    "\n",
    "Let's say we're building a classification tree by considering a list of predictors. Say we want to be able to classify olive regions from the fatty acid levels. These are all continuous variables, generically let's call them $X_{i1}, X_{i2}, ..., X_{ip}$. We also have an observed label $Y_i$ for each olive oil. \n",
    "\n",
    "We first assign everyone to the same class, say $\\hat{Y}_i = 1$. We can calculate the squared error $Err = \\sum_i {(\\hat{Y}_i - Y_i)^2}$\n",
    "\n",
    "- At **each step** of the algorithm we consider a list of possible decision (or split), for example $X_{10} > 12$, i.e. oleic is greater than 12%.\n",
    "- For each possible decision we recalculate the predictor for that rule, for example $\\hat{Y}_i = 1$ if $X_{10} > 12$ and $0$ otherwise.\n",
    "- We recalculate the error for each possible decision\n",
    "- We choose the decision that reduces the error by the largest amount\n",
    "- then keep going...\n",
    "\n",
    "<img src=\"../day4/images/Decision_tree.png\">"
   ]
  },
  {
   "cell_type": "code",
   "execution_count": 15,
   "metadata": {
    "collapsed": false
   },
   "outputs": [],
   "source": [
    "def classify_tree(indf, inacidlist, clon, clf, train_size=0.6):\n",
    "    subdf=indf[inacidlist]\n",
    "    subdfstd=(subdf - subdf.mean())/subdf.std()\n",
    "    X=subdfstd.values\n",
    "    y=indf[clon].values\n",
    "    Xtrain, Xtest, ytrain, ytest = train_test_split(X, y, train_size=train_size)\n",
    "    clf=clf.fit(Xtrain, ytrain)\n",
    "    training_accuracy = clf.score(Xtrain, ytrain)\n",
    "    test_accuracy = clf.score(Xtest, ytest)\n",
    "    print(\"Accuracy on training data: %0.2f\" % (training_accuracy))\n",
    "    print(\"Accuracy on test data:     %0.2f\" % (test_accuracy))\n",
    "    return clf, Xtrain, ytrain, Xtest, ytest"
   ]
  },
  {
   "cell_type": "code",
   "execution_count": 23,
   "metadata": {
    "collapsed": false
   },
   "outputs": [],
   "source": [
    "#from Jake's ESAC notebook\n",
    "def visualize_tree(estimator, Xtr, ytr, Xte, yte, boundaries=True,\n",
    "                   xlim=None, ylim=None):\n",
    "    estimator.fit(Xtr, ytr)\n",
    "\n",
    "    if xlim is None:\n",
    "        xlim = (Xtr[:, 0].min() - 0.1, Xtr[:, 0].max() + 0.1)\n",
    "    if ylim is None:\n",
    "        ylim = (Xtr[:, 1].min() - 0.1, Xtr[:, 1].max() + 0.1)\n",
    "\n",
    "    x_min, x_max = xlim\n",
    "    y_min, y_max = ylim\n",
    "    xx, yy = np.meshgrid(np.linspace(x_min, x_max, 100),\n",
    "                         np.linspace(y_min, y_max, 100))\n",
    "    Z = estimator.predict(np.c_[xx.ravel(), yy.ravel()])\n",
    "\n",
    "    # Put the result into a color plot\n",
    "    Z = Z.reshape(xx.shape)\n",
    "    plt.figure()\n",
    "    plt.pcolormesh(xx, yy, Z, alpha=0.2, cmap='rainbow')\n",
    "    plt.clim(ytr.min(), ytr.max())\n",
    "\n",
    "    # Plot also the training points\n",
    "    plt.scatter(Xtr[:, 0], Xtr[:, 1], c=ytr, s=50, cmap='rainbow')\n",
    "    plt.scatter(Xte[:, 0], Xte[:, 1], c=yte, s=50, marker='s', cmap='rainbow')\n",
    "\n",
    "    plt.axis('off')\n",
    "\n",
    "    plt.xlim(x_min, x_max)\n",
    "    plt.ylim(y_min, y_max)        \n",
    "    plt.clim(ytr.min(), ytr.max())\n",
    "    \n",
    "    # Plot the decision boundaries\n",
    "    def plot_boundaries(i, xlim, ylim):\n",
    "        if i < 0:\n",
    "            return\n",
    "\n",
    "        tree = estimator.tree_\n",
    "        \n",
    "        if tree.feature[i] == 0:\n",
    "            plt.plot([tree.threshold[i], tree.threshold[i]], ylim, '-k')\n",
    "            plot_boundaries(tree.children_left[i],\n",
    "                            [xlim[0], tree.threshold[i]], ylim)\n",
    "            plot_boundaries(tree.children_right[i],\n",
    "                            [tree.threshold[i], xlim[1]], ylim)\n",
    "        \n",
    "        elif tree.feature[i] == 1:\n",
    "            plt.plot(xlim, [tree.threshold[i], tree.threshold[i]], '-k')\n",
    "            plot_boundaries(tree.children_left[i], xlim,\n",
    "                            [ylim[0], tree.threshold[i]])\n",
    "            plot_boundaries(tree.children_right[i], xlim,\n",
    "                            [tree.threshold[i], ylim[1]])\n",
    "            \n",
    "    if boundaries:\n",
    "        plot_boundaries(0, plt.xlim(), plt.ylim())"
   ]
  },
  {
   "cell_type": "code",
   "execution_count": 24,
   "metadata": {
    "collapsed": false
   },
   "outputs": [],
   "source": [
    "from sklearn.tree import DecisionTreeClassifier\n",
    "from sklearn.ensemble import RandomForestClassifier\n",
    "from sklearn.cross_validation import train_test_split"
   ]
  },
  {
   "cell_type": "code",
   "execution_count": 25,
   "metadata": {
    "collapsed": false
   },
   "outputs": [],
   "source": [
    "dfsouthns=dfsouth[dfsouth.areastring!='Sicily']"
   ]
  },
  {
   "cell_type": "code",
   "execution_count": 30,
   "metadata": {
    "collapsed": false
   },
   "outputs": [
    {
     "name": "stdout",
     "output_type": "stream",
     "text": [
      "Accuracy on training data: 0.99\n",
      "Accuracy on test data:     0.89\n"
     ]
    },
    {
     "data": {
      "image/png": "[encoded data removed]",
      "text/plain": [
       "<matplotlib.figure.Figure at 0x117204f28>"
      ]
     },
     "metadata": {},
     "output_type": "display_data"
    }
   ],
   "source": [
    "clf = DecisionTreeClassifier()\n",
    "clf, xtr, ytr, xte, yte = classify_tree(dfsouthns, ['palmitic','palmitoleic'], 'area', clf)\n",
    "visualize_tree(clf, xtr, ytr, xte, yte, boundaries=False)"
   ]
  },
  {
   "cell_type": "markdown",
   "metadata": {},
   "source": [
    "One critical byproduct we get from trees is feature importances"
   ]
  },
  {
   "cell_type": "code",
   "execution_count": 27,
   "metadata": {
    "collapsed": false
   },
   "outputs": [
    {
     "data": {
      "text/plain": [
       "[('palmitic', 0.32259790628874058), ('palmitoleic', 0.67740209371125948)]"
      ]
     },
     "execution_count": 27,
     "metadata": {},
     "output_type": "execute_result"
    }
   ],
   "source": [
    "list(zip(['palmitic','palmitoleic'],clf.feature_importances_))"
   ]
  },
  {
   "cell_type": "markdown",
   "metadata": {},
   "source": [
    "Run again and again and see the overfit. **This Cries Overfit**. So why use it?"
   ]
  },
  {
   "cell_type": "code",
   "execution_count": 31,
   "metadata": {
    "collapsed": false
   },
   "outputs": [
    {
     "name": "stdout",
     "output_type": "stream",
     "text": [
      "Accuracy on training data: 1.00\n",
      "Accuracy on test data:     0.91\n"
     ]
    },
    {
     "data": {
      "image/png": "[encoded data removed]",
      "text/plain": [
       "<matplotlib.figure.Figure at 0x117c70320>"
      ]
     },
     "metadata": {},
     "output_type": "display_data"
    }
   ],
   "source": [
    "clf = DecisionTreeClassifier()\n",
    "clf, xtr, ytr, xte, yte = classify_tree(dfsouthns, ['palmitic','palmitoleic'], 'area', clf)\n",
    "visualize_tree(clf, xtr, ytr, xte, yte, boundaries=False)"
   ]
  },
  {
   "cell_type": "markdown",
   "metadata": {},
   "source": [
    "We use it to create a **random forest** from a set of trees. \n",
    "\n",
    "The idea of random forests arises naturally by first considering Tree bagging. In tree bagging we do the following:\n",
    "\n",
    "1. Take a random subsample of your data, with replacement\n",
    "2. Build a classification (or regression) tree \n",
    "3. repeat\n",
    "\n",
    "For a new data point we can then simply run that point through all the trees constructed, get all the decisions, and take a majority vote. This form of averaging gets rid of some of the over-fitting issues found in just using one tree. \n",
    "\n",
    "### Random Forest\n",
    "\n",
    "This method is very similar to the bootstrap aggregation method. However, as the name suggests some extra randomness is injected into the building of the trees. It turns out that the trees that are build from the random subsample of your data are quite similar, so the solution is quite simple.\n",
    "\n",
    "1. Take a random subsample of your data\n",
    "2. Select m variables (features) at random out of all M possible variables (independently for each node).\n",
    "3. Find the best split on the selected m variables. Build out the entire tree.\n",
    "4. repeat\n",
    "\n",
    "We take a majority vote the same as before. Have a look at the help page for the Random Forest Classifier, we'll be optimizing two options: `n_estimators` - the number of trees in the forest (although after a bit of experimentation you fill find that there is a flattening of performance over a few 100 trees), `max_features` - the number of features to consider when looking for the best split (step 2 above).\n",
    "\n",
    "\n",
    "![random forest](https://dl.dropboxusercontent.com/u/75194/BDF/randforest.png)\n",
    "\n",
    "When we do this we get trees lke the ones seen in the diagram above. What we do now, is that for each region of the space (on some suitable grid) we find out what result each tree gives us. Then we go majority vote, like in kNN. This process of resampling and averaging over the trees reduces the overfitting a bit.\n",
    "For two features the second dosent make a huge amount of sense, but lets see it as we can see that the overfitting is softened a bit by the averaging:"
   ]
  },
  {
   "cell_type": "code",
   "execution_count": 32,
   "metadata": {
    "collapsed": false
   },
   "outputs": [
    {
     "name": "stdout",
     "output_type": "stream",
     "text": [
      "Accuracy on training data: 1.00\n",
      "Accuracy on test data:     0.90\n"
     ]
    },
    {
     "data": {
      "image/png": "[encoded data removed]",
      "text/plain": [
       "<matplotlib.figure.Figure at 0x118aebef0>"
      ]
     },
     "metadata": {},
     "output_type": "display_data"
    }
   ],
   "source": [
    "clf=RandomForestClassifier(n_estimators=100)\n",
    "clf, Xtrain, ytrain, Xtest, ytest=classify_tree(dfsouthns, ['palmitic','palmitoleic'],'area',clf)\n",
    "visualize_tree(clf, Xtrain, ytrain, Xtest, ytest, boundaries=False)"
   ]
  },
  {
   "cell_type": "markdown",
   "metadata": {},
   "source": [
    "Lets run it on the entire set of features"
   ]
  },
  {
   "cell_type": "code",
   "execution_count": 40,
   "metadata": {
    "collapsed": false
   },
   "outputs": [
    {
     "name": "stdout",
     "output_type": "stream",
     "text": [
      "Accuracy on training data: 1.00\n",
      "Accuracy on test data:     0.97\n"
     ]
    }
   ],
   "source": [
    "clf=RandomForestClassifier(n_estimators=300)\n",
    "clf, Xtrain, ytrain, Xtest, ytest=classify_tree(dfsouthns, acidlist,'area',clf)"
   ]
  },
  {
   "cell_type": "code",
   "execution_count": 41,
   "metadata": {
    "collapsed": false
   },
   "outputs": [
    {
     "data": {
      "text/plain": [
       "[('palmitic', 0.10363271330778377),\n",
       " ('palmitoleic', 0.2310121170668224),\n",
       " ('stearic', 0.060032088522457901),\n",
       " ('oleic', 0.22786178875989602),\n",
       " ('linoleic', 0.27939276029744214),\n",
       " ('linolenic', 0.054248233284208268),\n",
       " ('arachidic', 0.025177635555754901),\n",
       " ('eicosenoic', 0.018642663205634433)]"
      ]
     },
     "execution_count": 41,
     "metadata": {},
     "output_type": "execute_result"
    }
   ],
   "source": [
    "list(zip(acidlist,clf.feature_importances_))"
   ]
  },
  {
   "cell_type": "code",
   "execution_count": 42,
   "metadata": {
    "collapsed": false
   },
   "outputs": [
    {
     "name": "stdout",
     "output_type": "stream",
     "text": [
      "Accuracy on training data: 1.00\n",
      "Accuracy on test data:     0.89\n"
     ]
    }
   ],
   "source": [
    "clf=RandomForestClassifier(n_estimators=300)\n",
    "clf, Xtrain, ytrain, Xtest, ytest=classify_tree(dfsouth, acidlist,'area',clf)"
   ]
  },
  {
   "cell_type": "code",
   "execution_count": 39,
   "metadata": {
    "collapsed": false
   },
   "outputs": [
    {
     "data": {
      "text/plain": [
       "[('palmitic', 0.11507865159520941),\n",
       " ('palmitoleic', 0.24674931737493699),\n",
       " ('stearic', 0.082805529690167051),\n",
       " ('oleic', 0.13814708727603592),\n",
       " ('linoleic', 0.16943749670514779),\n",
       " ('linolenic', 0.095441493171310038),\n",
       " ('arachidic', 0.064354755456165549),\n",
       " ('eicosenoic', 0.087985668731027061)]"
      ]
     },
     "execution_count": 39,
     "metadata": {},
     "output_type": "execute_result"
    }
   ],
   "source": [
    "list(zip(acidlist,clf.feature_importances_))"
   ]
  },
  {
   "cell_type": "markdown",
   "metadata": {},
   "source": [
    "### Cross-validation is not needed\n",
    "\n",
    "except to fit hyperparams, `n_estimators` and `max_features` (add in here). This is because re-sampling is built in via the bootstrap."
   ]
  },
  {
   "cell_type": "code",
   "execution_count": 43,
   "metadata": {
    "collapsed": false
   },
   "outputs": [],
   "source": [
    "def classify_tree_on_full(indf, inacidlist, clon, clf):\n",
    "    subdf=indf[inacidlist]\n",
    "    subdfstd=(subdf - subdf.mean())/subdf.std()\n",
    "    X=subdfstd.values\n",
    "    y=indf[clon].values\n",
    "    clf=clf.fit(X, y)\n",
    "    training_accuracy = clf.score(X, y)\n",
    "    test_accuracy = clf.oob_score_\n",
    "    print(\"Accuracy on all data: %0.2f\" % (training_accuracy))\n",
    "    print(\"Accuracy on oob data:     %0.2f\" % (test_accuracy))\n",
    "    return clf, test_accuracy"
   ]
  },
  {
   "cell_type": "code",
   "execution_count": 44,
   "metadata": {
    "collapsed": false
   },
   "outputs": [
    {
     "name": "stdout",
     "output_type": "stream",
     "text": [
      "Accuracy on all data: 1.00\n",
      "Accuracy on oob data:     0.94\n"
     ]
    },
    {
     "data": {
      "text/plain": [
       "[('palmitic', 0.098439647001173677),\n",
       " ('palmitoleic', 0.20665325043167068),\n",
       " ('stearic', 0.094128376386653473),\n",
       " ('oleic', 0.20703099589208082),\n",
       " ('linoleic', 0.18657649430251869),\n",
       " ('linolenic', 0.07606873228534157),\n",
       " ('arachidic', 0.066369830947101208),\n",
       " ('eicosenoic', 0.064732672753460022)]"
      ]
     },
     "execution_count": 44,
     "metadata": {},
     "output_type": "execute_result"
    }
   ],
   "source": [
    "newclf=RandomForestClassifier(oob_score=True, n_estimators=300)\n",
    "newclf, _=classify_tree_on_full(dfsouth, acidlist, 'area', newclf)\n",
    "list(zip(acidlist,newclf.feature_importances_))"
   ]
  },
  {
   "cell_type": "code",
   "execution_count": 45,
   "metadata": {
    "collapsed": false
   },
   "outputs": [
    {
     "name": "stdout",
     "output_type": "stream",
     "text": [
      "20 5\n",
      "Accuracy on all data: 1.00\n",
      "Accuracy on oob data:     0.92\n",
      "Accuracy on all data: 1.00\n",
      "Accuracy on oob data:     0.92\n",
      "Accuracy on all data: 1.00\n",
      "Accuracy on oob data:     0.92\n",
      "Accuracy on all data: 1.00\n",
      "Accuracy on oob data:     0.93\n",
      "Accuracy on all data: 1.00\n",
      "Accuracy on oob data:     0.91\n",
      "Accuracy on all data: 1.00\n",
      "Accuracy on oob data:     0.93\n",
      "Accuracy on all data: 1.00\n",
      "Accuracy on oob data:     0.92\n",
      "Accuracy on all data: 1.00\n",
      "Accuracy on oob data:     0.93\n",
      "Accuracy on all data: 1.00\n",
      "Accuracy on oob data:     0.92\n",
      "Accuracy on all data: 1.00\n",
      "Accuracy on oob data:     0.91\n",
      "Accuracy on all data: 1.00\n",
      "Accuracy on oob data:     0.92\n",
      "Accuracy on all data: 1.00\n",
      "Accuracy on oob data:     0.92\n",
      "Accuracy on all data: 1.00\n",
      "Accuracy on oob data:     0.93\n",
      "Accuracy on all data: 1.00\n",
      "Accuracy on oob data:     0.91\n",
      "Accuracy on all data: 1.00\n",
      "Accuracy on oob data:     0.92\n",
      "Accuracy on all data: 1.00\n",
      "Accuracy on oob data:     0.92\n",
      "Accuracy on all data: 1.00\n",
      "Accuracy on oob data:     0.92\n",
      "Accuracy on all data: 1.00\n",
      "Accuracy on oob data:     0.93\n",
      "Accuracy on all data: 1.00\n",
      "Accuracy on oob data:     0.93\n",
      "Accuracy on all data: 1.00\n",
      "Accuracy on oob data:     0.92\n",
      "Accuracy on all data: 1.00\n",
      "Accuracy on oob data:     0.92\n",
      "Accuracy on all data: 1.00\n",
      "Accuracy on oob data:     0.93\n",
      "Accuracy on all data: 1.00\n",
      "Accuracy on oob data:     0.93\n",
      "Accuracy on all data: 1.00\n",
      "Accuracy on oob data:     0.92\n",
      "Accuracy on all data: 1.00\n",
      "Accuracy on oob data:     0.92\n",
      "Accuracy on all data: 1.00\n",
      "Accuracy on oob data:     0.93\n",
      "Accuracy on all data: 1.00\n",
      "Accuracy on oob data:     0.92\n",
      "Accuracy on all data: 1.00\n",
      "Accuracy on oob data:     0.93\n",
      "Accuracy on all data: 1.00\n",
      "Accuracy on oob data:     0.92\n",
      "Accuracy on all data: 1.00\n",
      "Accuracy on oob data:     0.92\n",
      "Accuracy on all data: 1.00\n",
      "Accuracy on oob data:     0.93\n",
      "Accuracy on all data: 1.00\n",
      "Accuracy on oob data:     0.94\n",
      "Accuracy on all data: 1.00\n",
      "Accuracy on oob data:     0.92\n",
      "Accuracy on all data: 1.00\n",
      "Accuracy on oob data:     0.93\n",
      "Accuracy on all data: 1.00\n",
      "Accuracy on oob data:     0.93\n",
      "Accuracy on all data: 1.00\n",
      "Accuracy on oob data:     0.92\n",
      "Accuracy on all data: 1.00\n",
      "Accuracy on oob data:     0.93\n",
      "Accuracy on all data: 1.00\n",
      "Accuracy on oob data:     0.93\n",
      "Accuracy on all data: 1.00\n",
      "Accuracy on oob data:     0.93\n",
      "Accuracy on all data: 1.00\n",
      "Accuracy on oob data:     0.92\n",
      "Accuracy on all data: 1.00\n",
      "Accuracy on oob data:     0.93\n",
      "Accuracy on all data: 1.00\n",
      "Accuracy on oob data:     0.92\n",
      "Accuracy on all data: 1.00\n",
      "Accuracy on oob data:     0.93\n",
      "Accuracy on all data: 1.00\n",
      "Accuracy on oob data:     0.92\n",
      "Accuracy on all data: 1.00\n",
      "Accuracy on oob data:     0.93\n",
      "Accuracy on all data: 1.00\n",
      "Accuracy on oob data:     0.93\n",
      "Accuracy on all data: 1.00\n",
      "Accuracy on oob data:     0.93\n",
      "Accuracy on all data: 1.00\n",
      "Accuracy on oob data:     0.93\n",
      "Accuracy on all data: 1.00\n",
      "Accuracy on oob data:     0.92\n",
      "Accuracy on all data: 1.00\n",
      "Accuracy on oob data:     0.91\n",
      "Accuracy on all data: 1.00\n",
      "Accuracy on oob data:     0.92\n",
      "Accuracy on all data: 1.00\n",
      "Accuracy on oob data:     0.93\n",
      "Accuracy on all data: 1.00\n",
      "Accuracy on oob data:     0.93\n",
      "Accuracy on all data: 1.00\n",
      "Accuracy on oob data:     0.93\n",
      "Accuracy on all data: 1.00\n",
      "Accuracy on oob data:     0.93\n",
      "Accuracy on all data: 1.00\n",
      "Accuracy on oob data:     0.93\n",
      "Accuracy on all data: 1.00\n",
      "Accuracy on oob data:     0.92\n",
      "Accuracy on all data: 1.00\n",
      "Accuracy on oob data:     0.92\n",
      "Accuracy on all data: 1.00\n",
      "Accuracy on oob data:     0.93\n",
      "Accuracy on all data: 1.00\n",
      "Accuracy on oob data:     0.91\n",
      "Accuracy on all data: 1.00\n",
      "Accuracy on oob data:     0.93\n",
      "Accuracy on all data: 1.00\n",
      "Accuracy on oob data:     0.93\n",
      "Accuracy on all data: 1.00\n",
      "Accuracy on oob data:     0.92\n",
      "Accuracy on all data: 1.00\n",
      "Accuracy on oob data:     0.93\n",
      "Accuracy on all data: 1.00\n",
      "Accuracy on oob data:     0.93\n",
      "Accuracy on all data: 1.00\n",
      "Accuracy on oob data:     0.93\n",
      "Accuracy on all data: 1.00\n",
      "Accuracy on oob data:     0.93\n",
      "Accuracy on all data: 1.00\n",
      "Accuracy on oob data:     0.92\n",
      "Accuracy on all data: 1.00\n",
      "Accuracy on oob data:     0.93\n",
      "Accuracy on all data: 1.00\n",
      "Accuracy on oob data:     0.93\n",
      "Accuracy on all data: 1.00\n",
      "Accuracy on oob data:     0.93\n",
      "Accuracy on all data: 1.00\n",
      "Accuracy on oob data:     0.93\n",
      "Accuracy on all data: 1.00\n",
      "Accuracy on oob data:     0.94\n",
      "Accuracy on all data: 1.00\n",
      "Accuracy on oob data:     0.93\n",
      "Accuracy on all data: 1.00\n",
      "Accuracy on oob data:     0.93\n",
      "Accuracy on all data: 1.00\n",
      "Accuracy on oob data:     0.93\n",
      "Accuracy on all data: 1.00\n",
      "Accuracy on oob data:     0.93\n",
      "Accuracy on all data: 1.00\n",
      "Accuracy on oob data:     0.93\n",
      "Accuracy on all data: 1.00\n",
      "Accuracy on oob data:     0.93\n",
      "Accuracy on all data: 1.00\n",
      "Accuracy on oob data:     0.93\n",
      "Accuracy on all data: 1.00\n",
      "Accuracy on oob data:     0.92\n",
      "Accuracy on all data: 1.00\n",
      "Accuracy on oob data:     0.93\n",
      "Accuracy on all data: 1.00\n",
      "Accuracy on oob data:     0.93\n",
      "Accuracy on all data: 1.00\n",
      "Accuracy on oob data:     0.93\n",
      "Accuracy on all data: 1.00\n",
      "Accuracy on oob data:     0.93\n",
      "Accuracy on all data: 1.00\n",
      "Accuracy on oob data:     0.93\n",
      "Accuracy on all data: 1.00\n",
      "Accuracy on oob data:     0.92\n",
      "Accuracy on all data: 1.00\n",
      "Accuracy on oob data:     0.92\n",
      "Accuracy on all data: 1.00\n",
      "Accuracy on oob data:     0.92\n",
      "Accuracy on all data: 1.00\n",
      "Accuracy on oob data:     0.93\n",
      "Accuracy on all data: 1.00\n",
      "Accuracy on oob data:     0.92\n",
      "Accuracy on all data: 1.00\n",
      "Accuracy on oob data:     0.93\n",
      "Accuracy on all data: 1.00\n",
      "Accuracy on oob data:     0.93\n",
      "Accuracy on all data: 1.00\n",
      "Accuracy on oob data:     0.92\n",
      "Accuracy on all data: 1.00\n",
      "Accuracy on oob data:     0.92\n",
      "Accuracy on all data: 1.00\n",
      "Accuracy on oob data:     0.92\n",
      "Accuracy on all data: 1.00\n",
      "Accuracy on oob data:     0.92\n",
      "Accuracy on all data: 1.00\n",
      "Accuracy on oob data:     0.93\n",
      "Accuracy on all data: 1.00\n",
      "Accuracy on oob data:     0.92\n",
      "Accuracy on all data: 1.00\n",
      "Accuracy on oob data:     0.93\n"
     ]
    }
   ],
   "source": [
    "#this is a shortcut. You should do full c-val\n",
    "accus=[]\n",
    "params=[]\n",
    "nrange=range(50, 250, 10)\n",
    "fsplit=range(3,len(acidlist))\n",
    "print(len(nrange), len(fsplit))\n",
    "for i,n in enumerate(nrange):\n",
    "    for j,m in enumerate(fsplit):\n",
    "        newclf=RandomForestClassifier(oob_score=True, n_estimators=n, max_features=m)\n",
    "        newclf, a=classify_tree_on_full(dfsouth, acidlist, 'area', newclf)\n",
    "        accus.append(a)\n",
    "        params.append((n,m))\n",
    "#plt.plot(nrange, accus[3,:]);\n"
   ]
  },
  {
   "cell_type": "code",
   "execution_count": 115,
   "metadata": {
    "collapsed": false
   },
   "outputs": [
    {
     "data": {
      "text/plain": [
       "(47, (140, 5))"
      ]
     },
     "execution_count": 115,
     "metadata": {},
     "output_type": "execute_result"
    }
   ],
   "source": [
    "np.argmax(accus), params[np.argmax(accus)]"
   ]
  },
  {
   "cell_type": "code",
   "execution_count": 116,
   "metadata": {
    "collapsed": false
   },
   "outputs": [
    {
     "name": "stdout",
     "output_type": "stream",
     "text": [
      "Accuracy on all data: 1.00\n",
      "Accuracy on oob data:     0.92\n"
     ]
    }
   ],
   "source": [
    "n,m = params[np.argmax(accus)]\n",
    "newclf=RandomForestClassifier(oob_score=True, n_estimators=n, max_features=m)\n",
    "newclf, a=classify_tree_on_full(dfsouth, acidlist, 'area', newclf)"
   ]
  },
  {
   "cell_type": "code",
   "execution_count": 117,
   "metadata": {
    "collapsed": false
   },
   "outputs": [
    {
     "data": {
      "text/plain": [
       "0.91640866873065019"
      ]
     },
     "execution_count": 117,
     "metadata": {},
     "output_type": "execute_result"
    }
   ],
   "source": [
    "newclf.oob_score_"
   ]
  },
  {
   "cell_type": "code",
   "execution_count": 121,
   "metadata": {
    "collapsed": false
   },
   "outputs": [
    {
     "name": "stdout",
     "output_type": "stream",
     "text": [
      "24 5\n",
      "Accuracy on all data: 0.99\n",
      "Accuracy on oob data:     0.88\n",
      "Accuracy on all data: 1.00\n",
      "Accuracy on oob data:     0.91\n",
      "Accuracy on all data: 1.00\n",
      "Accuracy on oob data:     0.92\n",
      "Accuracy on all data: 1.00\n",
      "Accuracy on oob data:     0.92\n"
     ]
    },
    {
     "name": "stderr",
     "output_type": "stream",
     "text": [
      "//anaconda/envs/py35/lib/python3.5/site-packages/sklearn/ensemble/forest.py:403: UserWarning: Some inputs do not have OOB scores. This probably means too few trees were used to compute any reliable oob estimates.\n",
      "  warn(\"Some inputs do not have OOB scores. \"\n"
     ]
    },
    {
     "name": "stdout",
     "output_type": "stream",
     "text": [
      "Accuracy on all data: 1.00\n",
      "Accuracy on oob data:     0.90\n",
      "Accuracy on all data: 1.00\n",
      "Accuracy on oob data:     0.91\n",
      "Accuracy on all data: 1.00\n",
      "Accuracy on oob data:     0.93\n",
      "Accuracy on all data: 1.00\n",
      "Accuracy on oob data:     0.92\n",
      "Accuracy on all data: 1.00\n",
      "Accuracy on oob data:     0.93\n",
      "Accuracy on all data: 1.00\n",
      "Accuracy on oob data:     0.92\n",
      "Accuracy on all data: 1.00\n",
      "Accuracy on oob data:     0.93\n",
      "Accuracy on all data: 1.00\n",
      "Accuracy on oob data:     0.93\n",
      "Accuracy on all data: 1.00\n",
      "Accuracy on oob data:     0.93\n",
      "Accuracy on all data: 1.00\n",
      "Accuracy on oob data:     0.92\n",
      "Accuracy on all data: 1.00\n",
      "Accuracy on oob data:     0.92\n",
      "Accuracy on all data: 1.00\n",
      "Accuracy on oob data:     0.92\n",
      "Accuracy on all data: 1.00\n",
      "Accuracy on oob data:     0.93\n",
      "Accuracy on all data: 1.00\n",
      "Accuracy on oob data:     0.92\n",
      "Accuracy on all data: 1.00\n",
      "Accuracy on oob data:     0.92\n",
      "Accuracy on all data: 1.00\n",
      "Accuracy on oob data:     0.92\n",
      "Accuracy on all data: 1.00\n",
      "Accuracy on oob data:     0.92\n",
      "Accuracy on all data: 1.00\n",
      "Accuracy on oob data:     0.92\n",
      "Accuracy on all data: 1.00\n",
      "Accuracy on oob data:     0.93\n",
      "Accuracy on all data: 1.00\n",
      "Accuracy on oob data:     0.93\n"
     ]
    },
    {
     "data": {
      "image/png": "[encoded data removed]",
      "text/plain": [
       "<matplotlib.figure.Figure at 0x1190929b0>"
      ]
     },
     "metadata": {},
     "output_type": "display_data"
    }
   ],
   "source": [
    "#this is a shortcut. You should do full c-val\n",
    "accus=[]\n",
    "nrange=range(10, 250, 10)\n",
    "print(len(nrange), len(fsplit))\n",
    "for i,n in enumerate(nrange):\n",
    "    newclf=RandomForestClassifier(oob_score=True, n_estimators=n, max_features=5)\n",
    "    newclf, a=classify_tree_on_full(dfsouth, acidlist, 'area', newclf)\n",
    "    accus.append(a)\n",
    "plt.plot(nrange, accus);"
   ]
  },
  {
   "cell_type": "markdown",
   "metadata": {},
   "source": [
    "Sometimes it helps to just do a binary classification. \n",
    "\n",
    "YOUR TURN NOW\n",
    "> Write `def classify_tree_on_full_binary(indf, inacidlist, clon, clonval, clf)` in analogy with `classify_tree_on_full` above. The additional argument is `clonval`: its a sample for which if a sample has `clon` to be `clonval`, then the sample is thought to be \"positive\"; else its negative."
   ]
  },
  {
   "cell_type": "code",
   "execution_count": 46,
   "metadata": {
    "collapsed": false
   },
   "outputs": [],
   "source": [
    "#def classify_tree_on_full_binary(indf, inacidlist, clon, clonval, clf):\n",
    "#your code here\n",
    "def classify_tree_on_full_binary(indf, inacidlist, clon, clonval, clf):\n",
    "    subdf=indf[inacidlist]\n",
    "    subdfstd=(subdf - subdf.mean())/subdf.std()\n",
    "    X=subdfstd.values\n",
    "    y=(indf[clon].values==clonval)*1\n",
    "    clf=clf.fit(X, y)\n",
    "    training_accuracy = clf.score(X, y)\n",
    "    test_accuracy = clf.oob_score_\n",
    "    print(\"Accuracy on all data: %0.2f\" % (training_accuracy))\n",
    "    print(\"Accuracy on oob data:     %0.2f\" % (test_accuracy))\n",
    "    return clf, test_accuracy"
   ]
  },
  {
   "cell_type": "code",
   "execution_count": 47,
   "metadata": {
    "collapsed": false
   },
   "outputs": [
    {
     "name": "stdout",
     "output_type": "stream",
     "text": [
      "Accuracy on all data: 1.00\n",
      "Accuracy on oob data:     0.96\n"
     ]
    }
   ],
   "source": [
    "newclf=RandomForestClassifier(oob_score=True, n_estimators=100)\n",
    "newclf, _=classify_tree_on_full_binary(dfsouth, acidlist, 'area', 3, newclf)"
   ]
  },
  {
   "cell_type": "markdown",
   "metadata": {},
   "source": [
    "### A regression example\n",
    "\n",
    "(taken from http://nbviewer.jupyter.org/github/jakevdp/sklearn_pycon2015/blob/master/notebooks/03.2-Regression-Forests.ipynb , Copyright (c) 2015, Jake Vanderplas\n",
    ")"
   ]
  },
  {
   "cell_type": "code",
   "execution_count": 48,
   "metadata": {
    "collapsed": false
   },
   "outputs": [
    {
     "data": {
      "image/png": "[encoded data removed]",
      "text/plain": [
       "<matplotlib.figure.Figure at 0x108d6d3c8>"
      ]
     },
     "metadata": {},
     "output_type": "display_data"
    }
   ],
   "source": [
    "x = 10 * np.random.rand(100)\n",
    "\n",
    "def model(x, sigma=0.3):\n",
    "    fast_oscillation = np.sin(5 * x)\n",
    "    slow_oscillation = np.sin(0.5 * x)\n",
    "    noise = sigma * np.random.randn(len(x))\n",
    "\n",
    "    return slow_oscillation + fast_oscillation + noise\n",
    "\n",
    "y = model(x)\n",
    "plt.errorbar(x, y, 0.3, fmt='o');"
   ]
  },
  {
   "cell_type": "markdown",
   "metadata": {},
   "source": [
    "Just to illustrate, we'll do the fits with no cval, and no hyperparameter optimization.\n",
    "\n",
    "Here is an illustration of how these work(from https://www.quora.com/How-does-random-forest-work-for-regression-1): <img src=\"https://qph.ec.quoracdn.net/main-qimg-0e6c24c764d66acef53450872de50dc4?convert_to_webp=true\">"
   ]
  },
  {
   "cell_type": "code",
   "execution_count": 49,
   "metadata": {
    "collapsed": false
   },
   "outputs": [],
   "source": [
    "from sklearn.ensemble import RandomForestRegressor\n",
    "xfit = np.linspace(0, 10, 1000).reshape(-1,1)#TEST SET\n",
    "yfit = RandomForestRegressor(100).fit(x.reshape(-1,1), y).predict(xfit)\n"
   ]
  },
  {
   "cell_type": "code",
   "execution_count": 50,
   "metadata": {
    "collapsed": false
   },
   "outputs": [
    {
     "data": {
      "image/png": "[encoded data removed]",
      "text/plain": [
       "<matplotlib.figure.Figure at 0x118b827f0>"
      ]
     },
     "metadata": {},
     "output_type": "display_data"
    }
   ],
   "source": [
    "ytrue = model(xfit, 0)\n",
    "plt.errorbar(x, y, 0.3, fmt='o')\n",
    "plt.plot(xfit, yfit, '-r');\n",
    "plt.plot(xfit, ytrue, '-k', alpha=0.02);"
   ]
  },
  {
   "cell_type": "code",
   "execution_count": null,
   "metadata": {
    "collapsed": true
   },
   "outputs": [],
   "source": []
  }
 ],
 "metadata": {
  "kernelspec": {
   "display_name": "Python 3",
   "language": "python",
   "name": "python3"
  },
  "language_info": {
   "codemirror_mode": {
    "name": "ipython",
    "version": 3
   },
   "file_extension": ".py",
   "mimetype": "text/x-python",
   "name": "python",
   "nbconvert_exporter": "python",
   "pygments_lexer": "ipython3",
   "version": "3.5.2"
  }
 },
 "nbformat": 4,
 "nbformat_minor": 0
}
